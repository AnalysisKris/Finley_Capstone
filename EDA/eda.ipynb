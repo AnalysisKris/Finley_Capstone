{
 "cells": [
  {
   "cell_type": "code",
   "execution_count": 93,
   "metadata": {},
   "outputs": [],
   "source": [
    "import pandas as pd\n",
    "from wordcloud import WordCloud\n",
    "import matplotlib.pyplot as plt\n",
    "import seaborn as sns\n",
    "from collections import Counter\n",
    "from sklearn.model_selection import train_test_split\n",
    "from sklearn.linear_model import LogisticRegression\n",
    "from sklearn.metrics import classification_report"
   ]
  },
  {
   "cell_type": "markdown",
   "metadata": {},
   "source": [
    "## Descriptive Statistics"
   ]
  },
  {
   "cell_type": "code",
   "execution_count": 96,
   "metadata": {},
   "outputs": [
    {
     "name": "stdout",
     "output_type": "stream",
     "text": [
      "Data Set Info\n",
      "<class 'pandas.core.frame.DataFrame'>\n",
      "RangeIndex: 742 entries, 0 to 741\n",
      "Data columns (total 33 columns):\n",
      " #   Column             Non-Null Count  Dtype  \n",
      "---  ------             --------------  -----  \n",
      " 0   Unnamed: 0         742 non-null    int64  \n",
      " 1   Job Title          742 non-null    object \n",
      " 2   Salary Estimate    742 non-null    object \n",
      " 3   Job Description    742 non-null    object \n",
      " 4   Rating             742 non-null    float64\n",
      " 5   Company Name       742 non-null    object \n",
      " 6   Location           742 non-null    object \n",
      " 7   Headquarters       742 non-null    object \n",
      " 8   Size               742 non-null    object \n",
      " 9   Founded            742 non-null    int64  \n",
      " 10  Type of ownership  742 non-null    object \n",
      " 11  Industry           742 non-null    object \n",
      " 12  Sector             742 non-null    object \n",
      " 13  Revenue            742 non-null    object \n",
      " 14  Competitors        742 non-null    object \n",
      " 15  hourly             742 non-null    int64  \n",
      " 16  employer_provided  742 non-null    int64  \n",
      " 17  min_salary         742 non-null    int64  \n",
      " 18  max_salary         742 non-null    int64  \n",
      " 19  avg_salary         742 non-null    float64\n",
      " 20  company_txt        742 non-null    object \n",
      " 21  job_state          742 non-null    object \n",
      " 22  same_state         742 non-null    int64  \n",
      " 23  age                742 non-null    int64  \n",
      " 24  python_yn          742 non-null    int64  \n",
      " 25  R_yn               742 non-null    int64  \n",
      " 26  spark              742 non-null    int64  \n",
      " 27  aws                742 non-null    int64  \n",
      " 28  excel              742 non-null    int64  \n",
      " 29  job_simp           742 non-null    object \n",
      " 30  seniority          742 non-null    object \n",
      " 31  desc_len           742 non-null    int64  \n",
      " 32  num_comp           742 non-null    int64  \n",
      "dtypes: float64(2), int64(15), object(16)\n",
      "memory usage: 191.4+ KB\n",
      "None\n",
      "\n",
      "Describe Data Set\n",
      "       Unnamed: 0      Rating      Founded      hourly  employer_provided  \\\n",
      "count  742.000000  742.000000   742.000000  742.000000         742.000000   \n",
      "mean   370.500000    3.618868  1837.154987    0.032345           0.022911   \n",
      "std    214.341239    0.801210   497.183763    0.177034           0.149721   \n",
      "min      0.000000   -1.000000    -1.000000    0.000000           0.000000   \n",
      "25%    185.250000    3.300000  1939.000000    0.000000           0.000000   \n",
      "50%    370.500000    3.700000  1988.000000    0.000000           0.000000   \n",
      "75%    555.750000    4.000000  2007.000000    0.000000           0.000000   \n",
      "max    741.000000    5.000000  2019.000000    1.000000           1.000000   \n",
      "\n",
      "       min_salary  max_salary  avg_salary  same_state         age   python_yn  \\\n",
      "count  742.000000  742.000000  742.000000  742.000000  742.000000  742.000000   \n",
      "mean    74.719677  128.149596  100.626011    0.557951   46.591644    0.528302   \n",
      "std     30.980593   45.220324   38.855948    0.496965   53.778815    0.499535   \n",
      "min     15.000000   16.000000   13.500000    0.000000   -1.000000    0.000000   \n",
      "25%     52.000000   96.000000   73.500000    0.000000   11.000000    0.000000   \n",
      "50%     69.500000  124.000000   97.500000    1.000000   24.000000    1.000000   \n",
      "75%     91.000000  155.000000  122.500000    1.000000   59.000000    1.000000   \n",
      "max    202.000000  306.000000  254.000000    1.000000  276.000000    1.000000   \n",
      "\n",
      "             R_yn       spark         aws       excel      desc_len  \\\n",
      "count  742.000000  742.000000  742.000000  742.000000    742.000000   \n",
      "mean     0.002695    0.225067    0.237197    0.522911   3869.545822   \n",
      "std      0.051882    0.417908    0.425651    0.499812   1521.495868   \n",
      "min      0.000000    0.000000    0.000000    0.000000    407.000000   \n",
      "25%      0.000000    0.000000    0.000000    0.000000   2801.000000   \n",
      "50%      0.000000    0.000000    0.000000    1.000000   3731.000000   \n",
      "75%      0.000000    0.000000    0.000000    1.000000   4740.000000   \n",
      "max      1.000000    1.000000    1.000000    1.000000  10051.000000   \n",
      "\n",
      "         num_comp  \n",
      "count  742.000000  \n",
      "mean     1.053908  \n",
      "std      1.384239  \n",
      "min      0.000000  \n",
      "25%      0.000000  \n",
      "50%      0.000000  \n",
      "75%      3.000000  \n",
      "max      4.000000  \n",
      "\n",
      "Nunique: Counts number of distinct elements in specified axis. Returns Series with number of distinct elements\n",
      "Unnamed: 0           742\n",
      "Job Title            264\n",
      "Salary Estimate      416\n",
      "Job Description      463\n",
      "Rating                31\n",
      "Company Name         343\n",
      "Location             200\n",
      "Headquarters         198\n",
      "Size                   9\n",
      "Founded              102\n",
      "Type of ownership     11\n",
      "Industry              60\n",
      "Sector                25\n",
      "Revenue               14\n",
      "Competitors          128\n",
      "hourly                 2\n",
      "employer_provided      2\n",
      "min_salary           114\n",
      "max_salary           160\n",
      "avg_salary           225\n",
      "company_txt          343\n",
      "job_state             37\n",
      "same_state             2\n",
      "age                  102\n",
      "python_yn              2\n",
      "R_yn                   2\n",
      "spark                  2\n",
      "aws                    2\n",
      "excel                  2\n",
      "job_simp               7\n",
      "seniority              3\n",
      "desc_len             443\n",
      "num_comp               5\n",
      "dtype: int64\n"
     ]
    }
   ],
   "source": [
    "# Load the CSV file into a Pandas DataFrame\n",
    "df = pd.read_csv('eda_data.csv')\n",
    "\n",
    "# Summary Statistics: Generate summary statistics for numeric columns.\n",
    "print('Data Set Info')\n",
    "print(df.info())\n",
    "print()\n",
    "print('Describe Data Set')\n",
    "print(df.describe())\n",
    "print()\n",
    "print('Nunique: Counts number of distinct elements in specified axis. Returns Series with number of distinct elements')\n",
    "print(df.nunique())\n"
   ]
  },
  {
   "cell_type": "code",
   "execution_count": 99,
   "metadata": {},
   "outputs": [
    {
     "name": "stdout",
     "output_type": "stream",
     "text": [
      "Categorical Varialbes: \"Job Title\"\n",
      "Job Title\n",
      "Data Scientist                     131\n",
      "Data Engineer                       53\n",
      "Senior Data Scientist               34\n",
      "Data Analyst                        15\n",
      "Senior Data Engineer                14\n",
      "                                  ... \n",
      "Data Scientist/ML Engineer           1\n",
      "Sr. Data Scientist                   1\n",
      "Data Engineer 4 - Contract           1\n",
      "Data Analyst - Asset Management      1\n",
      "Machine Learning Engineer (NLP)      1\n",
      "Name: count, Length: 264, dtype: int64\n",
      "\n",
      "\n",
      "Categorical Varialbes: \"Industry\"\n",
      "Industry\n",
      "Biotech & Pharmaceuticals                   112\n",
      "Insurance Carriers                           63\n",
      "Computer Hardware & Software                 59\n",
      "IT Services                                  50\n",
      "Health Care Services & Hospitals             49\n",
      "Enterprise Software & Network Solutions      42\n",
      "Internet                                     29\n",
      "Consulting                                   29\n",
      "Aerospace & Defense                          25\n",
      "Advertising & Marketing                      25\n",
      "Consumer Products Manufacturing              20\n",
      "Research & Development                       19\n",
      "Colleges & Universities                      16\n",
      "Energy                                       14\n",
      "Banks & Credit Unions                        12\n",
      "Federal Agencies                             11\n",
      "-1                                           10\n",
      "Staffing & Outsourcing                       10\n",
      "Travel Agencies                               8\n",
      "Lending                                       8\n",
      "Food & Beverage Manufacturing                 8\n",
      "Financial Analytics & Research                8\n",
      "Real Estate                                   8\n",
      "Security Services                             7\n",
      "Insurance Agencies & Brokerages               6\n",
      "Religious Organizations                       6\n",
      "Department, Clothing, & Shoe Stores           6\n",
      "Investment Banking & Asset Management         5\n",
      "Architectural & Engineering Services          4\n",
      "K-12 Education                                4\n",
      "Gas Stations                                  4\n",
      "Gambling                                      4\n",
      "Industrial Manufacturing                      4\n",
      "Telecommunications Services                   4\n",
      "Logistics & Supply Chain                      4\n",
      "Financial Transaction Processing              4\n",
      "Wholesale                                     3\n",
      "Stock Exchanges                               3\n",
      "Social Assistance                             3\n",
      "Construction                                  3\n",
      "Transportation Management                     3\n",
      "Video Games                                   3\n",
      "Education Training Services                   3\n",
      "Consumer Product Rental                       3\n",
      "Telecommunications Manufacturing              2\n",
      "Sporting Goods Stores                         2\n",
      "TV Broadcast & Cable Networks                 2\n",
      "Brokerage Services                            2\n",
      "Metals Brokers                                2\n",
      "Accounting                                    1\n",
      "Health Care Products Manufacturing            1\n",
      "Health, Beauty, & Fitness                     1\n",
      "Farm Support Services                         1\n",
      "Auctions & Galleries                          1\n",
      "Trucking                                      1\n",
      "Mining                                        1\n",
      "Other Retail Stores                           1\n",
      "Motion Picture Production & Distribution      1\n",
      "Transportation Equipment Manufacturing        1\n",
      "Beauty & Personal Accessories Stores          1\n",
      "Name: count, dtype: int64\n"
     ]
    }
   ],
   "source": [
    "# Value Counts: Check the distribution of categorical variables\n",
    "print('Categorical Varialbes: \"Job Title\"')\n",
    "print(df['Job Title'].value_counts())\n",
    "print()\n",
    "print()\n",
    "print('Categorical Varialbes: \"Industry\"')\n",
    "print(df['Industry'].value_counts())"
   ]
  },
  {
   "cell_type": "markdown",
   "metadata": {},
   "source": [
    "## Exploratory Visualizations"
   ]
  },
  {
   "cell_type": "code",
   "execution_count": 101,
   "metadata": {},
   "outputs": [
    {
     "data": {
      "text/plain": [
       "<Axes: >"
      ]
     },
     "execution_count": 101,
     "metadata": {},
     "output_type": "execute_result"
    },
    {
     "data": {
      "image/png": "[encoded data removed]",
      "text/plain": [
       "<Figure size 640x480 with 1 Axes>"
      ]
     },
     "metadata": {},
     "output_type": "display_data"
    }
   ],
   "source": [
    "# Histograms and Boxplots: Visualize the distribution of numeric features like salary, rating, and description length.\n",
    "df['avg_salary'].hist()\n"
   ]
  },
  {
   "cell_type": "code",
   "execution_count": 103,
   "metadata": {},
   "outputs": [
    {
     "data": {
      "text/plain": [
       "<Axes: >"
      ]
     },
     "execution_count": 103,
     "metadata": {},
     "output_type": "execute_result"
    },
    {
     "data": {
      "image/png": "[encoded data removed]",
      "text/plain": [
       "<Figure size 640x480 with 1 Axes>"
      ]
     },
     "metadata": {},
     "output_type": "display_data"
    }
   ],
   "source": [
    "df.boxplot(column=['avg_salary'])"
   ]
  },
  {
   "cell_type": "code",
   "execution_count": 106,
   "metadata": {},
   "outputs": [
    {
     "data": {
      "text/plain": [
       "<Axes: >"
      ]
     },
     "execution_count": 106,
     "metadata": {},
     "output_type": "execute_result"
    },
    {
     "data": {
      "image/png": "[encoded data removed]",
      "text/plain": [
       "<Figure size 640x480 with 1 Axes>"
      ]
     },
     "metadata": {},
     "output_type": "display_data"
    }
   ],
   "source": [
    "#  Job description length \n",
    "df['desc_len'].hist()"
   ]
  },
  {
   "cell_type": "markdown",
   "metadata": {},
   "source": [
    "# OLD"
   ]
  },
  {
   "cell_type": "code",
   "execution_count": 105,
   "metadata": {},
   "outputs": [
    {
     "ename": "KeyError",
     "evalue": "'cleaned_description'",
     "output_type": "error",
     "traceback": [
      "\u001b[0;31m---------------------------------------------------------------------------\u001b[0m",
      "\u001b[0;31mKeyError\u001b[0m                                  Traceback (most recent call last)",
      "File \u001b[0;32m/opt/anaconda3/envs/ds-venv/lib/python3.11/site-packages/pandas/core/indexes/base.py:3805\u001b[0m, in \u001b[0;36mIndex.get_loc\u001b[0;34m(self, key)\u001b[0m\n\u001b[1;32m   3804\u001b[0m \u001b[39mtry\u001b[39;00m:\n\u001b[0;32m-> 3805\u001b[0m     \u001b[39mreturn\u001b[39;00m \u001b[39mself\u001b[39m\u001b[39m.\u001b[39m_engine\u001b[39m.\u001b[39mget_loc(casted_key)\n\u001b[1;32m   3806\u001b[0m \u001b[39mexcept\u001b[39;00m \u001b[39mKeyError\u001b[39;00m \u001b[39mas\u001b[39;00m err:\n",
      "File \u001b[0;32mindex.pyx:167\u001b[0m, in \u001b[0;36mpandas._libs.index.IndexEngine.get_loc\u001b[0;34m()\u001b[0m\n",
      "File \u001b[0;32mindex.pyx:196\u001b[0m, in \u001b[0;36mpandas._libs.index.IndexEngine.get_loc\u001b[0;34m()\u001b[0m\n",
      "File \u001b[0;32mpandas/_libs/hashtable_class_helper.pxi:7081\u001b[0m, in \u001b[0;36mpandas._libs.hashtable.PyObjectHashTable.get_item\u001b[0;34m()\u001b[0m\n",
      "File \u001b[0;32mpandas/_libs/hashtable_class_helper.pxi:7089\u001b[0m, in \u001b[0;36mpandas._libs.hashtable.PyObjectHashTable.get_item\u001b[0;34m()\u001b[0m\n",
      "\u001b[0;31mKeyError\u001b[0m: 'cleaned_description'",
      "\nThe above exception was the direct cause of the following exception:\n",
      "\u001b[0;31mKeyError\u001b[0m                                  Traceback (most recent call last)",
      "Cell \u001b[0;32mIn[105], line 2\u001b[0m\n\u001b[1;32m      1\u001b[0m \u001b[39m# Calculate communal and agentic scores\u001b[39;00m\n\u001b[0;32m----> 2\u001b[0m df[\u001b[39m'\u001b[39m\u001b[39mcommunal_score\u001b[39m\u001b[39m'\u001b[39m] \u001b[39m=\u001b[39m df[\u001b[39m'\u001b[39m\u001b[39mcleaned_description\u001b[39m\u001b[39m'\u001b[39m]\u001b[39m.\u001b[39mapply(\u001b[39mlambda\u001b[39;00m x: count_words(x, communal_words))\n\u001b[1;32m      3\u001b[0m df[\u001b[39m'\u001b[39m\u001b[39magentic_score\u001b[39m\u001b[39m'\u001b[39m] \u001b[39m=\u001b[39m df[\u001b[39m'\u001b[39m\u001b[39mcleaned_description\u001b[39m\u001b[39m'\u001b[39m]\u001b[39m.\u001b[39mapply(\u001b[39mlambda\u001b[39;00m x: count_words(x, agentic_words))\n\u001b[1;32m      5\u001b[0m \u001b[39m# Calculate frequency of communal and agentic words\u001b[39;00m\n",
      "File \u001b[0;32m/opt/anaconda3/envs/ds-venv/lib/python3.11/site-packages/pandas/core/frame.py:4102\u001b[0m, in \u001b[0;36mDataFrame.__getitem__\u001b[0;34m(self, key)\u001b[0m\n\u001b[1;32m   4100\u001b[0m \u001b[39mif\u001b[39;00m \u001b[39mself\u001b[39m\u001b[39m.\u001b[39mcolumns\u001b[39m.\u001b[39mnlevels \u001b[39m>\u001b[39m \u001b[39m1\u001b[39m:\n\u001b[1;32m   4101\u001b[0m     \u001b[39mreturn\u001b[39;00m \u001b[39mself\u001b[39m\u001b[39m.\u001b[39m_getitem_multilevel(key)\n\u001b[0;32m-> 4102\u001b[0m indexer \u001b[39m=\u001b[39m \u001b[39mself\u001b[39m\u001b[39m.\u001b[39mcolumns\u001b[39m.\u001b[39mget_loc(key)\n\u001b[1;32m   4103\u001b[0m \u001b[39mif\u001b[39;00m is_integer(indexer):\n\u001b[1;32m   4104\u001b[0m     indexer \u001b[39m=\u001b[39m [indexer]\n",
      "File \u001b[0;32m/opt/anaconda3/envs/ds-venv/lib/python3.11/site-packages/pandas/core/indexes/base.py:3812\u001b[0m, in \u001b[0;36mIndex.get_loc\u001b[0;34m(self, key)\u001b[0m\n\u001b[1;32m   3807\u001b[0m     \u001b[39mif\u001b[39;00m \u001b[39misinstance\u001b[39m(casted_key, \u001b[39mslice\u001b[39m) \u001b[39mor\u001b[39;00m (\n\u001b[1;32m   3808\u001b[0m         \u001b[39misinstance\u001b[39m(casted_key, abc\u001b[39m.\u001b[39mIterable)\n\u001b[1;32m   3809\u001b[0m         \u001b[39mand\u001b[39;00m \u001b[39many\u001b[39m(\u001b[39misinstance\u001b[39m(x, \u001b[39mslice\u001b[39m) \u001b[39mfor\u001b[39;00m x \u001b[39min\u001b[39;00m casted_key)\n\u001b[1;32m   3810\u001b[0m     ):\n\u001b[1;32m   3811\u001b[0m         \u001b[39mraise\u001b[39;00m InvalidIndexError(key)\n\u001b[0;32m-> 3812\u001b[0m     \u001b[39mraise\u001b[39;00m \u001b[39mKeyError\u001b[39;00m(key) \u001b[39mfrom\u001b[39;00m \u001b[39merr\u001b[39;00m\n\u001b[1;32m   3813\u001b[0m \u001b[39mexcept\u001b[39;00m \u001b[39mTypeError\u001b[39;00m:\n\u001b[1;32m   3814\u001b[0m     \u001b[39m# If we have a listlike key, _check_indexing_error will raise\u001b[39;00m\n\u001b[1;32m   3815\u001b[0m     \u001b[39m#  InvalidIndexError. Otherwise we fall through and re-raise\u001b[39;00m\n\u001b[1;32m   3816\u001b[0m     \u001b[39m#  the TypeError.\u001b[39;00m\n\u001b[1;32m   3817\u001b[0m     \u001b[39mself\u001b[39m\u001b[39m.\u001b[39m_check_indexing_error(key)\n",
      "\u001b[0;31mKeyError\u001b[0m: 'cleaned_description'"
     ]
    }
   ],
   "source": [
    "# Calculate communal and agentic scores\n",
    "df['communal_score'] = df['cleaned_description'].apply(lambda x: count_words(x, communal_words))\n",
    "df['agentic_score'] = df['cleaned_description'].apply(lambda x: count_words(x, agentic_words))\n",
    "\n",
    "# Calculate frequency of communal and agentic words\n",
    "df['communal_freq'] = df['communal_score'] / df['cleaned_description'].apply(len)\n",
    "df['agentic_freq'] = df['agentic_score'] / df['cleaned_description'].apply(len)\n",
    "\n",
    "# Visualization\n",
    "plt.figure(figsize=(12, 6))\n",
    "df['communal_score'].plot(kind='hist', alpha=0.5, label='Communal Score', color='blue')\n",
    "df['agentic_score'].plot(kind='hist', alpha=0.5, label='Agentic Score', color='red')\n",
    "plt.legend()\n",
    "plt.xlabel('Score')\n",
    "plt.title('Distribution of Communal and Agentic Scores in Job Descriptions')\n",
    "plt.show()\n",
    "\n",
    "plt.figure(figsize=(12, 6))\n",
    "df['communal_freq'].plot(kind='hist', alpha=0.5, label='Communal Frequency', color='blue')\n",
    "df['agentic_freq'].plot(kind='hist', alpha=0.5, label='Agentic Frequency', color='red')\n",
    "plt.legend()\n",
    "plt.xlabel('Frequency')\n",
    "plt.title('Distribution of Communal and Agentic Frequencies in Job Descriptions')\n",
    "plt.show()\n",
    "\n",
    "print(df.info())"
   ]
  }
 ],
 "metadata": {
  "language_info": {
   "name": "python"
  },
  "orig_nbformat": 4
 },
 "nbformat": 4,
 "nbformat_minor": 2
}
