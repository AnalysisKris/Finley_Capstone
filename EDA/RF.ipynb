{
 "cells": [
  {
   "cell_type": "code",
   "execution_count": 1,
   "metadata": {},
   "outputs": [
    {
     "name": "stdout",
     "output_type": "stream",
     "text": [
      "Test set accuracy: 0.5369127516778524\n",
      "Confusion Matrix:\n",
      "[[37 31]\n",
      " [38 43]]\n",
      "Classification Report:\n",
      "              precision    recall  f1-score   support\n",
      "\n",
      "           0       0.49      0.54      0.52        68\n",
      "           1       0.58      0.53      0.55        81\n",
      "\n",
      "    accuracy                           0.54       149\n",
      "   macro avg       0.54      0.54      0.54       149\n",
      "weighted avg       0.54      0.54      0.54       149\n",
      "\n",
      "Feature Importances:\n",
      "                       Feature  Importance\n",
      "0                     desc_len    0.112252\n",
      "4                   max_salary    0.086346\n",
      "3                   avg_salary    0.083243\n",
      "2                   min_salary    0.083056\n",
      "6                      Founded    0.075817\n",
      "1                          age    0.067376\n",
      "7            job_state_encoded    0.066314\n",
      "5                       Rating    0.063924\n",
      "15            Industry_encoded    0.061581\n",
      "10  headquarters_state_encoded    0.053493\n",
      "12              Sector_encoded    0.052929\n",
      "9             job_simp_encoded    0.038429\n",
      "18   Type of ownership_encoded    0.028546\n",
      "8             num_comp_encoded    0.019838\n",
      "16                  same_state    0.017493\n",
      "11                       excel    0.016301\n",
      "14                    num_comp    0.016093\n",
      "22                   python_yn    0.015277\n",
      "17                         aws    0.013923\n",
      "19           seniority_encoded    0.012798\n",
      "21                       spark    0.011117\n",
      "13           employer_provided    0.001883\n",
      "20                      hourly    0.001527\n",
      "23                        R_yn    0.000442\n",
      "ROC-AUC Score: 0.5038126361655774\n",
      "Precision-Recall AUC: 0.5631128866852451\n"
     ]
    }
   ],
   "source": [
    "import pandas as pd\n",
    "from sklearn.ensemble import RandomForestClassifier\n",
    "from sklearn.model_selection import train_test_split\n",
    "from sklearn.metrics import classification_report, confusion_matrix, accuracy_score, roc_auc_score, precision_recall_curve, auc\n",
    "\n",
    "# Load your DataFrame (assuming it is named df)\n",
    "df = pd.read_csv('model_data.csv') # Uncomment and modify if needed\n",
    "\n",
    "# Define target and features\n",
    "target = 'Gender_Bias'\n",
    "numerical_features = [\n",
    "    'desc_len', 'age', 'min_salary', 'avg_salary', 'max_salary', 'Rating', \n",
    "    'Founded', 'job_state_encoded', 'num_comp_encoded', 'job_simp_encoded', \n",
    "    'headquarters_state_encoded', 'excel', 'Sector_encoded', 'employer_provided', \n",
    "    'num_comp', 'Industry_encoded', 'same_state', 'aws', 'Type of ownership_encoded', \n",
    "    'seniority_encoded', 'hourly', 'spark', 'python_yn', 'R_yn'\n",
    "]\n",
    "\n",
    "# Prepare the data\n",
    "X = df[numerical_features]\n",
    "y = df[target]\n",
    "\n",
    "# Split the data into training and test sets\n",
    "X_train, X_test, y_train, y_test = train_test_split(X, y, test_size=0.2, random_state=42)\n",
    "\n",
    "# Initialize and train the RandomForestClassifier\n",
    "model = RandomForestClassifier(random_state=42)\n",
    "model.fit(X_train, y_train)\n",
    "\n",
    "# Make predictions\n",
    "y_pred = model.predict(X_test)\n",
    "\n",
    "# Evaluate the model\n",
    "print(\"Test set accuracy:\", accuracy_score(y_test, y_pred))\n",
    "print(\"Confusion Matrix:\")\n",
    "print(confusion_matrix(y_test, y_pred))\n",
    "print(\"Classification Report:\")\n",
    "print(classification_report(y_test, y_pred))\n",
    "\n",
    "# Feature importances\n",
    "importances = model.feature_importances_\n",
    "feature_importances = pd.DataFrame({'Feature': X.columns, 'Importance': importances})\n",
    "feature_importances = feature_importances.sort_values(by='Importance', ascending=False)\n",
    "\n",
    "print(\"Feature Importances:\")\n",
    "print(feature_importances)\n",
    "\n",
    "# Evaluate performance metrics\n",
    "y_pred_proba = model.predict_proba(X_test)[:, 1]\n",
    "\n",
    "# ROC-AUC Score\n",
    "roc_auc = roc_auc_score(y_test, y_pred_proba)\n",
    "print(\"ROC-AUC Score:\", roc_auc)\n",
    "\n",
    "# Precision-Recall Curve\n",
    "precision, recall, _ = precision_recall_curve(y_test, y_pred_proba)\n",
    "pr_auc = auc(recall, precision)\n",
    "print(\"Precision-Recall AUC:\", pr_auc)\n"
   ]
  },
  {
   "cell_type": "markdown",
   "metadata": {},
   "source": [
    "### Analysis\n",
    "Accuracy: The accuracy is close to 0.54, indicating that the model’s performance is only slightly better than random guessing.\n",
    "\n",
    "Confusion Matrix: The confusion matrix shows that the model has a balance between false positives and false negatives. It performs similarly on both classes but with moderate performance.\n",
    "ROC-AUC Score: A ROC-AUC score of 0.50 suggests that the model has no discriminative power.\n",
    "\n",
    "Precision-Recall AUC: A Precision-Recall AUC of 0.56 is relatively low, indicating room for improvement in distinguishing between classes."
   ]
  }
 ],
 "metadata": {
  "kernelspec": {
   "display_name": "Python 3.11.8",
   "language": "python",
   "name": "python3"
  },
  "language_info": {
   "codemirror_mode": {
    "name": "ipython",
    "version": 3
   },
   "file_extension": ".py",
   "mimetype": "text/x-python",
   "name": "python",
   "nbconvert_exporter": "python",
   "pygments_lexer": "ipython3",
   "version": "3.11.8"
  },
  "orig_nbformat": 4,
  "vscode": {
   "interpreter": {
    "hash": "2b69611a5e908fff52739484b03ed04ac3b781fc2c02522f7e97d7b5506d2f83"
   }
  }
 },
 "nbformat": 4,
 "nbformat_minor": 2
}
