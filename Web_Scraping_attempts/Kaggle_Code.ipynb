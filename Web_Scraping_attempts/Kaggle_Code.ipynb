{
 "cells": [
  {
   "cell_type": "code",
   "execution_count": 6,
   "metadata": {},
   "outputs": [
    {
     "ename": "AttributeError",
     "evalue": "module 'selenium.webdriver' has no attribute 'EdgeOptions'",
     "output_type": "error",
     "traceback": [
      "\u001b[0;31m---------------------------------------------------------------------------\u001b[0m",
      "\u001b[0;31mAttributeError\u001b[0m                            Traceback (most recent call last)",
      "Cell \u001b[0;32mIn[6], line 20\u001b[0m\n\u001b[1;32m     17\u001b[0m \u001b[39m#path = \"/opt/homebrew/bin/chromedriver\" #\"/Users/kristenfinley/edgedriver_arm64/msedgedriver.exe\"\u001b[39;00m\n\u001b[1;32m     18\u001b[0m job_dataset \u001b[39m=\u001b[39m pd\u001b[39m.\u001b[39mDataFrame()\n\u001b[0;32m---> 20\u001b[0m options \u001b[39m=\u001b[39m webdriver\u001b[39m.\u001b[39mEdgeOptions()\n\u001b[1;32m     21\u001b[0m options\u001b[39m.\u001b[39madd_argument(\u001b[39m\"\u001b[39m\u001b[39m--start-minimized\u001b[39m\u001b[39m\"\u001b[39m)\n\u001b[1;32m     22\u001b[0m driver \u001b[39m=\u001b[39m webdriver\u001b[39m.\u001b[39mEdge(options\u001b[39m=\u001b[39moptions)\n",
      "\u001b[0;31mAttributeError\u001b[0m: module 'selenium.webdriver' has no attribute 'EdgeOptions'"
     ]
    }
   ],
   "source": [
    "from selenium import webdriver\n",
    "from selenium.webdriver.common.by import By\n",
    "import pandas as pd\n",
    "import time\n",
    "from tqdm import tqdm\n",
    "from selenium import webdriver\n",
    "from selenium.webdriver.chrome.service import Service\n",
    "from selenium.webdriver.chrome.options import Options\n",
    "from selenium.webdriver.common.by import By\n",
    "from selenium.webdriver.support.ui import WebDriverWait\n",
    "from selenium.webdriver.support import expected_conditions as EC\n",
    "from selenium.common.exceptions import TimeoutException, NoSuchElementException\n",
    "import time\n",
    "\n",
    "website = \"https://www.glassdoor.co.in/Job/data-jobs-SRCH_KO0,4.htm\"\n",
    "chromedriver_path = '/opt/homebrew/bin/chromedriver'   # Modify this path\n",
    "#path = \"/opt/homebrew/bin/chromedriver\" #\"/Users/kristenfinley/edgedriver_arm64/msedgedriver.exe\"\n",
    "job_dataset = pd.DataFrame()\n",
    "\n",
    "options = webdriver.EdgeOptions()\n",
    "options.add_argument(\"--start-minimized\")\n",
    "driver = webdriver.Edge(options=options)\n",
    "\n",
    "driver.get(website)\n"
   ]
  },
  {
   "cell_type": "markdown",
   "metadata": {},
   "source": []
  }
 ],
 "metadata": {
  "kernelspec": {
   "display_name": "Python 3.11.8",
   "language": "python",
   "name": "python3"
  },
  "language_info": {
   "codemirror_mode": {
    "name": "ipython",
    "version": 3
   },
   "file_extension": ".py",
   "mimetype": "text/x-python",
   "name": "python",
   "nbconvert_exporter": "python",
   "pygments_lexer": "ipython3",
   "version": "3.11.8"
  },
  "orig_nbformat": 4,
  "vscode": {
   "interpreter": {
    "hash": "2b69611a5e908fff52739484b03ed04ac3b781fc2c02522f7e97d7b5506d2f83"
   }
  }
 },
 "nbformat": 4,
 "nbformat_minor": 2
}
