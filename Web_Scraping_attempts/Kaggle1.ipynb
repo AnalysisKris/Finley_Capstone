{
 "cells": [
  {
   "cell_type": "code",
   "execution_count": 20,
   "metadata": {},
   "outputs": [],
   "source": [
    "import pandas as pd\n",
    "import time\n",
    "from bs4 import BeautifulSoup\n",
    "from selenium import webdriver\n",
    "from selenium.webdriver.common.by import By\n",
    "from selenium.webdriver.chrome.service import Service\n",
    "from selenium.webdriver.support import expected_conditions as EC\n",
    "from selenium.webdriver.support.ui import WebDriverWait\n",
    "from selenium.webdriver.chrome.options import Options\n",
    "import os\n",
    "from bs4 import BeautifulSoup\n",
    "#import undetected_chromedriver as uc"
   ]
  },
  {
   "cell_type": "code",
   "execution_count": 21,
   "metadata": {},
   "outputs": [],
   "source": [
    "# Setup chrome options\n",
    "options = Options()\n",
    "options.add_argument('--no-sandbox')\n",
    "options.add_argument('--disable-setuid-sandbox')\n",
    "options.add_argument('--headless')\n",
    "options.add_argument('--disable-gpu')\n",
    "options.add_argument('--disable-dev-shm-usage')\n",
    "options.add_argument('--remote-debugging-port=9222')\n",
    "\n",
    "# Create service\n",
    "service = Service('/opt/homebrew/bin/chromedriver')\n",
    "\n",
    "driver = webdriver.Chrome(service = service, options = options)"
   ]
  },
  {
   "cell_type": "code",
   "execution_count": 22,
   "metadata": {},
   "outputs": [],
   "source": [
    "# Go to the Glassdoor page while searching for data data science jobs\n",
    "page_url = \"https://www.glassdoor.com/Job/index.htm?suggestCount=0&suggestChosen=false&clickSource=searchBtn&typedKeyword=\"\n",
    "driver.get(page_url)\n",
    "\n",
    "#driver.implicitly_wait(10) # seconds\n",
    "# Find Job Cards\n",
    "job_cards = driver.find_elements(By.CLASS_NAME, 'JobCard_trackingLink__zUSOo')\n",
    "\n",
    "# Get the links list for each card\n",
    "for card in job_cards:\n",
    "    card_url = card.get_attribute('href')\n",
    "    print(card_url)"
   ]
  },
  {
   "cell_type": "code",
   "execution_count": 23,
   "metadata": {},
   "outputs": [],
   "source": [
    "# Go to each job and get the job details\n",
    "driver.implicitly_wait(10) # seconds\n",
    "jobs_list = []\n",
    "for card in job_cards:\n",
    "    card_url = card.get_attribute('href')\n",
    "    driver.get(card_url)\n",
    "\n",
    "    company = driver.find_element(By.CLASS_NAME, 'EmployerProfile_employerName__8w0tV')\n",
    "    print(company.text)\n",
    "    title = driver.find_element(By.CLASS_NAME, 'JobDetails_jobTitle__Rw_gn')\n",
    "    location = driver.find_element(By.CLASS_NAME, 'JobDetails_location__MbnUM')\n",
    "\n",
    "    job_details_section = driver.find_element(By.CLASS_NAME, 'JobDetails_jobDescription__6VeBn')\n",
    "    # Extract the HTML content of the job details section\n",
    "    html_content = job_details_section.get_attribute(\"outerHTML\")\n",
    "\n",
    "    # Use BeautifulSoup to parse the HTML content\n",
    "    soup = BeautifulSoup(html_content, \"html.parser\")\n",
    "\n",
    "    # Find all paragraphs and list items within the job details section\n",
    "    description_paragraphs = soup.find_all([\"p\", \"li\"])\n",
    "    \n",
    "    description = \"\\n\".join(paragraph.get_text() for paragraph in description_paragraphs)\n",
    "    \n",
    "    # Add the jobs details to the list\n",
    "    jobs_list.append({\"company\": company.text, \"location\": location.text, \"job_title\": title.text, \"description\": description})\n",
    "    driver.implicitly_wait(2) # seconds\n",
    "# Close the WebDriver\n",
    "driver.quit()"
   ]
  },
  {
   "cell_type": "code",
   "execution_count": 24,
   "metadata": {},
   "outputs": [
    {
     "name": "stdout",
     "output_type": "stream",
     "text": [
      "DataFrame has been saved to Kaggle1.csv\n"
     ]
    }
   ],
   "source": [
    "# Convert the list to a pandas DataFrame\n",
    "df = pd.DataFrame(jobs_list)\n",
    "\n",
    "# Define the file path including the file name\n",
    "file_path = \"Kaggle1.csv\"\n",
    "\n",
    "# Save the DataFrame to an Excel file\n",
    "df.to_csv(file_path, index=False)\n",
    "\n",
    "print(f\"DataFrame has been saved to {file_path}\")"
   ]
  }
 ],
 "metadata": {
  "kernelspec": {
   "display_name": "Python 3.11.8",
   "language": "python",
   "name": "python3"
  },
  "language_info": {
   "codemirror_mode": {
    "name": "ipython",
    "version": 3
   },
   "file_extension": ".py",
   "mimetype": "text/x-python",
   "name": "python",
   "nbconvert_exporter": "python",
   "pygments_lexer": "ipython3",
   "version": "3.11.8"
  },
  "orig_nbformat": 4,
  "vscode": {
   "interpreter": {
    "hash": "2b69611a5e908fff52739484b03ed04ac3b781fc2c02522f7e97d7b5506d2f83"
   }
  }
 },
 "nbformat": 4,
 "nbformat_minor": 2
}
