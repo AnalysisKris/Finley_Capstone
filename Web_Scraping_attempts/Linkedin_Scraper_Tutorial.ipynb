{
 "cells": [
  {
   "cell_type": "code",
   "execution_count": 1,
   "id": "20caac41",
   "metadata": {},
   "outputs": [],
   "source": [
    "#Import dependencies\n",
    "import requests\n",
    "from bs4 import BeautifulSoup\n",
    "import random\n",
    "import pandas as pd"
   ]
  },
  {
   "cell_type": "code",
   "execution_count": 2,
   "id": "40db598b",
   "metadata": {},
   "outputs": [],
   "source": [
    "title = \"Data Scientist\"  # Job title\n",
    "location = \"Missouri\"  # Job location\n",
    "start = 0  # Starting point for pagination"
   ]
  },
  {
   "cell_type": "code",
   "execution_count": 3,
   "id": "59881a4e",
   "metadata": {},
   "outputs": [],
   "source": [
    "# Construct the URL for LinkedIn job search\n",
    "list_url = f\"https://www.linkedin.com/jobs-guest/jobs/api/seeMoreJobPostings/search?keywords={title}&location={location}&start={start}\"\n",
    "\n",
    "# Send a GET request to the URL and store the response\n",
    "response = requests.get(list_url)\n",
    "\n",
    "#Get the HTML, parse the response and find all list items(jobs postings)\n",
    "list_data = response.text\n",
    "list_soup = BeautifulSoup(list_data, \"html.parser\")\n",
    "page_jobs = list_soup.find_all(\"li\")\n",
    "    \n",
    "    "
   ]
  },
  {
   "cell_type": "code",
   "execution_count": 4,
   "id": "c7da6afc",
   "metadata": {},
   "outputs": [],
   "source": [
    "#Create an empty list to store the job postings\n",
    "id_list = []"
   ]
  },
  {
   "cell_type": "code",
   "execution_count": 5,
   "id": "6cc0c9c6",
   "metadata": {},
   "outputs": [
    {
     "name": "stdout",
     "output_type": "stream",
     "text": [
      "3931194790\n",
      "3816043732\n",
      "3960246092\n",
      "3946645837\n",
      "3946628732\n",
      "3941843335\n",
      "3925505261\n",
      "3959283430\n",
      "3941746091\n",
      "3959124161\n"
     ]
    }
   ],
   "source": [
    "#Itetrate through job postings to find job ids\n",
    "for job in page_jobs:\n",
    "    base_card_div = job.find(\"div\", {\"class\": \"base-card\"})\n",
    "    job_id = base_card_div.get(\"data-entity-urn\").split(\":\")[3]\n",
    "    print(job_id)\n",
    "    id_list.append(job_id)\n",
    "    "
   ]
  },
  {
   "cell_type": "code",
   "execution_count": 6,
   "id": "a0c4a8fc",
   "metadata": {},
   "outputs": [
    {
     "name": "stdout",
     "output_type": "stream",
     "text": [
      "200\n",
      "200\n",
      "200\n",
      "200\n",
      "200\n",
      "200\n",
      "200\n",
      "200\n",
      "200\n",
      "200\n"
     ]
    }
   ],
   "source": [
    "# Initialize an empty list to store job information\n",
    "job_list = []\n",
    "\n",
    "# Loop through the list of job IDs and get each URL\n",
    "for job_id in id_list:\n",
    "    # Construct the URL for each job using the job ID\n",
    "    job_url = f\"https://www.linkedin.com/jobs-guest/jobs/api/jobPosting/{job_id}\"\n",
    "    \n",
    "    # Send a GET request to the job URL and parse the reponse\n",
    "    job_response = requests.get(job_url)\n",
    "    print(job_response.status_code)\n",
    "    job_soup = BeautifulSoup(job_response.text, \"html.parser\")\n",
    "    \n",
    "     # Create a dictionary to store job details\n",
    "    job_post = {}\n",
    "    \n",
    "    # Try to extract and store the job title\n",
    "    try:\n",
    "        job_post[\"job_title\"] = job_soup.find(\"h2\", {\"class\":\"top-card-layout__title font-sans text-lg papabear:text-xl font-bold leading-open text-color-text mb-0 topcard__title\"}).text.strip()\n",
    "    except:\n",
    "        job_post[\"job_title\"] = None\n",
    "        \n",
    "    # Try to extract and store the company name\n",
    "    try:\n",
    "        job_post[\"company_name\"] = job_soup.find(\"a\", {\"class\": \"topcard__org-name-link topcard__flavor--black-link\"}).text.strip()\n",
    "    except:\n",
    "        job_post[\"company_name\"] = None\n",
    "        \n",
    "    # Try to extract and store the time posted\n",
    "    try:\n",
    "        job_post[\"time_posted\"] = job_soup.find(\"span\", {\"class\": \"posted-time-ago__text topcard__flavor--metadata\"}).text.strip()\n",
    "    except:\n",
    "        job_post[\"time_posted\"] = None\n",
    "        \n",
    "    # Try to extract and store the number of applicants\n",
    "    try:\n",
    "        job_post[\"num_applicants\"] = job_soup.find(\"span\", {\"class\": \"num-applicants__caption topcard__flavor--metadata topcard__flavor--bullet\"}).text.strip()\n",
    "    except:\n",
    "        job_post[\"num_applicants\"] = None\n",
    "    \n",
    "        \n",
    "    # Append the job details to the job_list\n",
    "    job_list.append(job_post)\n",
    "    \n",
    "    "
   ]
  },
  {
   "cell_type": "code",
   "execution_count": 7,
   "id": "bb44d930",
   "metadata": {},
   "outputs": [
    {
     "data": {
      "text/plain": [
       "[{'job_title': 'Data Scientist',\n",
       "  'company_name': 'Steneral Consulting',\n",
       "  'time_posted': '1 month ago',\n",
       "  'num_applicants': '80 applicants'},\n",
       " {'job_title': 'NLP - Data Scientist (Expert) - Data & Analytics',\n",
       "  'company_name': 'Sonitalent Corp',\n",
       "  'time_posted': '5 months ago',\n",
       "  'num_applicants': '64 applicants'},\n",
       " {'job_title': 'Data Scientist',\n",
       "  'company_name': 'Clayco',\n",
       "  'time_posted': '4 days ago',\n",
       "  'num_applicants': None},\n",
       " {'job_title': 'Data Scientist',\n",
       "  'company_name': 'US Tech Solutions',\n",
       "  'time_posted': '3 weeks ago',\n",
       "  'num_applicants': None},\n",
       " {'job_title': 'Mid Level Data Scientist',\n",
       "  'company_name': 'Steneral Consulting',\n",
       "  'time_posted': '3 weeks ago',\n",
       "  'num_applicants': '33 applicants'},\n",
       " {'job_title': 'Scientist I, Data Review',\n",
       "  'company_name': 'Eurofins Agroscience Services',\n",
       "  'time_posted': '3 weeks ago',\n",
       "  'num_applicants': '26 applicants'},\n",
       " {'job_title': 'Data Scientist',\n",
       "  'company_name': 'W. R. Berkley Corporation',\n",
       "  'time_posted': '1 month ago',\n",
       "  'num_applicants': None},\n",
       " {'job_title': 'Data Scientist',\n",
       "  'company_name': 'Microsoft',\n",
       "  'time_posted': '6 days ago',\n",
       "  'num_applicants': None},\n",
       " {'job_title': 'Data Scientist',\n",
       "  'company_name': 'Bayer',\n",
       "  'time_posted': '1 week ago',\n",
       "  'num_applicants': None},\n",
       " {'job_title': 'Data Scientist',\n",
       "  'company_name': 'Copeland',\n",
       "  'time_posted': '6 days ago',\n",
       "  'num_applicants': '39 applicants'}]"
      ]
     },
     "execution_count": 7,
     "metadata": {},
     "output_type": "execute_result"
    }
   ],
   "source": [
    "#Check if the list contains all the desired data\n",
    "job_list"
   ]
  },
  {
   "cell_type": "code",
   "execution_count": null,
   "id": "3f00ef02",
   "metadata": {},
   "outputs": [],
   "source": [
    "# Create a pandas DataFrame using the list of job dictionaries 'job_list'\n",
    "jobs_df = pd.DataFrame(job_list)\n",
    "jobs_df"
   ]
  },
  {
   "cell_type": "code",
   "execution_count": null,
   "id": "fff37980",
   "metadata": {},
   "outputs": [],
   "source": [
    "#Save data to CSV file\n",
    "jobs_df.to_csv('Toronto_Python_Developer.csv', index = False)"
   ]
  }
 ],
 "metadata": {
  "kernelspec": {
   "display_name": "Python 3.11.8",
   "language": "python",
   "name": "python3"
  },
  "language_info": {
   "codemirror_mode": {
    "name": "ipython",
    "version": 3
   },
   "file_extension": ".py",
   "mimetype": "text/x-python",
   "name": "python",
   "nbconvert_exporter": "python",
   "pygments_lexer": "ipython3",
   "version": "3.11.8"
  },
  "vscode": {
   "interpreter": {
    "hash": "2b69611a5e908fff52739484b03ed04ac3b781fc2c02522f7e97d7b5506d2f83"
   }
  }
 },
 "nbformat": 4,
 "nbformat_minor": 5
}
