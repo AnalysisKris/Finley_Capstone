{
 "cells": [
  {
   "cell_type": "code",
   "execution_count": 2,
   "metadata": {},
   "outputs": [
    {
     "data": {
      "text/plain": [
       "'\\ndef label_job_listings(job_data):\\n    labeled_jobs = []\\n    \\n    for index, job in job_data.iterrows():\\n        print(f\"Job Description {index + 1}:\")\\n        print(job[\\'job_description\\'])\\n        print(\"--------------------------------------------------\")\\n        print(\"Label Options:\")\\n        print(\"1. Neutral\")\\n        print(\"2. Slight Bias\")\\n        print(\"3. Moderate Bias\")\\n        print(\"4. Strong Bias\")\\n        print(\"5. Skip (if unsure or irrelevant)\")\\n        \\n        while True:\\n            try:\\n                label = int(input(\"Enter label (1-5): \"))\\n                if label in [1, 2, 3, 4, 5]:\\n                    labeled_jobs.append({\\'job_description\\': job[\\'job_description\\'], \\'bias_label\\': label})\\n                    break\\n                else:\\n                    print(\"Invalid input. Please enter a number between 1 and 5.\")\\n            except ValueError:\\n                print(\"Invalid input. Please enter a number between 1 and 5.\")\\n        \\n        print(\"\\n\\n\")\\n    \\n    return labeled_jobs\\n\\n# Example usage\\nif __name__ == \"__main__\":\\n    # Load job listings from a CSV file (adjust path as necessary)\\n    file_path = \\'job_listings.csv\\'\\n    job_data = pd.read_csv(file_path)\\n    \\n    # Display job descriptions for labeling\\n    labeled_jobs = label_job_listings(job_data)\\n    \\n    # Convert labeled data to a DataFrame\\n    labeled_df = pd.DataFrame(labeled_jobs)\\n    \\n    # Save labeled data to a new CSV file\\n    labeled_file_path = \\'labeled_job_listings.csv\\'\\n    labeled_df.to_csv(labeled_file_path, index=False)\\n    \\n    print(f\"Labeled job listings saved to \\'{labeled_file_path}\\'.\")\\n'"
      ]
     },
     "execution_count": 2,
     "metadata": {},
     "output_type": "execute_result"
    }
   ],
   "source": [
    "import pandas as pd\n",
    "\n",
    "# Function to label job listings interactively\n",
    "'''\n",
    "def label_job_listings(job_data):\n",
    "    labeled_jobs = []\n",
    "    \n",
    "    for index, job in job_data.iterrows():\n",
    "        print(f\"Job Description {index + 1}:\")\n",
    "        print(job['job_description'])\n",
    "        print(\"--------------------------------------------------\")\n",
    "        print(\"Label Options:\")\n",
    "        print(\"1. Neutral\")\n",
    "        print(\"2. Slight Bias\")\n",
    "        print(\"3. Moderate Bias\")\n",
    "        print(\"4. Strong Bias\")\n",
    "        print(\"5. Skip (if unsure or irrelevant)\")\n",
    "        \n",
    "        while True:\n",
    "            try:\n",
    "                label = int(input(\"Enter label (1-5): \"))\n",
    "                if label in [1, 2, 3, 4, 5]:\n",
    "                    labeled_jobs.append({'job_description': job['job_description'], 'bias_label': label})\n",
    "                    break\n",
    "                else:\n",
    "                    print(\"Invalid input. Please enter a number between 1 and 5.\")\n",
    "            except ValueError:\n",
    "                print(\"Invalid input. Please enter a number between 1 and 5.\")\n",
    "        \n",
    "        print(\"\\n\\n\")\n",
    "    \n",
    "    return labeled_jobs\n",
    "\n",
    "# Example usage\n",
    "if __name__ == \"__main__\":\n",
    "    # Load job listings from a CSV file (adjust path as necessary)\n",
    "    file_path = 'job_listings.csv'\n",
    "    job_data = pd.read_csv(file_path)\n",
    "    \n",
    "    # Display job descriptions for labeling\n",
    "    labeled_jobs = label_job_listings(job_data)\n",
    "    \n",
    "    # Convert labeled data to a DataFrame\n",
    "    labeled_df = pd.DataFrame(labeled_jobs)\n",
    "    \n",
    "    # Save labeled data to a new CSV file\n",
    "    labeled_file_path = 'labeled_job_listings.csv'\n",
    "    labeled_df.to_csv(labeled_file_path, index=False)\n",
    "    \n",
    "    print(f\"Labeled job listings saved to '{labeled_file_path}'.\")\n",
    "'''"
   ]
  }
 ],
 "metadata": {
  "kernelspec": {
   "display_name": "Python 3.11.8",
   "language": "python",
   "name": "python3"
  },
  "language_info": {
   "codemirror_mode": {
    "name": "ipython",
    "version": 3
   },
   "file_extension": ".py",
   "mimetype": "text/x-python",
   "name": "python",
   "nbconvert_exporter": "python",
   "pygments_lexer": "ipython3",
   "version": "3.11.8"
  },
  "orig_nbformat": 4,
  "vscode": {
   "interpreter": {
    "hash": "2b69611a5e908fff52739484b03ed04ac3b781fc2c02522f7e97d7b5506d2f83"
   }
  }
 },
 "nbformat": 4,
 "nbformat_minor": 2
}
