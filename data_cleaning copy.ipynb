{
 "cells": [
  {
   "cell_type": "markdown",
   "metadata": {},
   "source": [
    "# Data Cleaning, Pre-processing, and Feature Engineering\n",
    "## Detecting Gender Bias in Job Descriptions\n",
    "## Project Overview\n",
    "\n",
    "This notebook is part of a project aimed at detecting and mitigating gender bias in job descriptions using machine learning techniques. By applying natural language processing (NLP) methods to analyze text for gendered language patterns in job descriptions, algorithms were developed to identify patterns of gender bias. This contributes to ongoing efforts toward more inclusive hiring practices, ultimately reducing systemic gender disparities in the workforce.\n",
    "\n",
    "## Steps in This Notebook\n",
    "\n",
    "1. **Data Loading**: Load the dataset containing job descriptions.\n",
    "2. **Data Cleaning**: Clean the job descriptions by removing stopwords and punctuation, and standardizing the text.\n",
    "3. **Feature Engineering**: Extract features such as word frequencies, communal and agentic word counts, seniority level, and salary range.\n",
    "4. **Visualization**: Visualize the distributions of communal and agentic scores and frequencies.\n",
    "5. **Data Saving**: Save the cleaned data with the newly created features.\n",
    "1. Removing Duplicates: Ensure there are no duplicate entries in the dataset.\n",
    "1. Handling Missing Values: Address any missing values in the dataset.\n",
    "1. Text Normalization: Normalize the text further by stemming or lemmatizing words.\n",
    "1. Feature Scaling: Normalize numerical features to have similar scales.\n",
    "1. Encoding Categorical Variables: Convert categorical variables into numerical format using techniques like one-hot encoding.\n",
    "1. Adding More Features: Extract more meaningful features from the job descriptions.\n",
    "\n",
    "## Keywords\n",
    "\n",
    "- Gender bias\n",
    "- Job descriptions\n",
    "- Machine learning\n",
    "- Natural language processing (NLP)\n",
    "- Inclusive hiring practices\n",
    "\n",
    "---\n",
    "\n"
   ]
  },
  {
   "cell_type": "code",
   "execution_count": 25,
   "metadata": {},
   "outputs": [
    {
     "name": "stderr",
     "output_type": "stream",
     "text": [
      "[nltk_data] Downloading package punkt to\n",
      "[nltk_data]     /Users/kristenfinley/nltk_data...\n",
      "[nltk_data]   Package punkt is already up-to-date!\n",
      "[nltk_data] Downloading package stopwords to\n",
      "[nltk_data]     /Users/kristenfinley/nltk_data...\n",
      "[nltk_data]   Package stopwords is already up-to-date!\n",
      "[nltk_data] Downloading package wordnet to\n",
      "[nltk_data]     /Users/kristenfinley/nltk_data...\n",
      "[nltk_data]   Package wordnet is already up-to-date!\n"
     ]
    },
    {
     "data": {
      "text/plain": [
       "True"
      ]
     },
     "execution_count": 25,
     "metadata": {},
     "output_type": "execute_result"
    }
   ],
   "source": [
    "# Import necessary libraries\n",
    "import pandas as pd\n",
    "import nltk\n",
    "import pycountry\n",
    "from nltk.tokenize import word_tokenize\n",
    "from nltk.corpus import stopwords\n",
    "from collections import Counter\n",
    "import matplotlib.pyplot as plt\n",
    "import re\n",
    "from nltk.stem import WordNetLemmatizer\n",
    "from sklearn.preprocessing import StandardScaler, OneHotEncoder\n",
    "from sklearn.impute import SimpleImputer\n",
    "from textblob import TextBlob\n",
    "from textstat import textstat\n",
    "\n",
    "# Download necessary NLTK data\n",
    "nltk.download('punkt')\n",
    "nltk.download('stopwords')\n",
    "nltk.download('wordnet')"
   ]
  },
  {
   "cell_type": "code",
   "execution_count": 26,
   "metadata": {},
   "outputs": [
    {
     "name": "stdout",
     "output_type": "stream",
     "text": [
      "   Unnamed: 0             Job Title  \\\n",
      "0           0     Flutter Developer   \n",
      "1           1      Django Developer   \n",
      "2           2      Machine Learning   \n",
      "3           3         iOS Developer   \n",
      "4           4  Full Stack Developer   \n",
      "\n",
      "                                     Job Description  \n",
      "0  We are looking for hire experts flutter develo...  \n",
      "1  PYTHON/DJANGO (Developer/Lead) - Job Code(PDJ ...  \n",
      "2  Data Scientist (Contractor)\\n\\nBangalore, IN\\n...  \n",
      "3  JOB DESCRIPTION:\\n\\nStrong framework outside o...  \n",
      "4  job responsibility full stack engineer – react...  \n",
      "<class 'pandas.core.frame.DataFrame'>\n",
      "RangeIndex: 2277 entries, 0 to 2276\n",
      "Data columns (total 3 columns):\n",
      " #   Column           Non-Null Count  Dtype \n",
      "---  ------           --------------  ----- \n",
      " 0   Unnamed: 0       2277 non-null   int64 \n",
      " 1   Job Title        2277 non-null   object\n",
      " 2   Job Description  2277 non-null   object\n",
      "dtypes: int64(1), object(2)\n",
      "memory usage: 53.5+ KB\n",
      "None\n"
     ]
    }
   ],
   "source": [
    "# Load the CSV file into a Pandas DataFrame\n",
    "df = pd.read_csv('job_title_des.csv')\n",
    "\n",
    "# Inspect the data\n",
    "print(df.head())\n",
    "print(df.info())"
   ]
  },
  {
   "cell_type": "markdown",
   "metadata": {},
   "source": [
    "### Clean the data"
   ]
  },
  {
   "cell_type": "code",
   "execution_count": 27,
   "metadata": {},
   "outputs": [],
   "source": [
    "# Tokenization\n",
    "stop_words = set(stopwords.words('english'))\n",
    "def clean_text(text):\n",
    "    # Tokenize the text\n",
    "    tokens = word_tokenize(text)\n",
    "    # Remove stopwords and punctuation, and convert to lowercase\n",
    "    tokens = [word.lower() for word in tokens if word.isalpha() and word.lower() not in stop_words]\n",
    "    return tokens\n",
    "\n",
    "\n"
   ]
  },
  {
   "cell_type": "code",
   "execution_count": 28,
   "metadata": {},
   "outputs": [],
   "source": [
    "def count_words(tokens, word_list):\n",
    "    return sum(1 for token in tokens if token in word_list)"
   ]
  },
  {
   "cell_type": "code",
   "execution_count": 29,
   "metadata": {},
   "outputs": [],
   "source": [
    "# Initialize the lemmatizer\n",
    "#lemmatizer = WordNetLemmatizer()\n",
    "\n",
    "# Function to lemmatize text\n",
    "#def lemmatize_text(text):\n",
    "#    words = word_tokenize(text)\n",
    "#    lemmatized_words = [lemmatizer.lemmatize(word) for word in words]\n",
    "#    return ' '.join(lemmatized_words)"
   ]
  },
  {
   "cell_type": "code",
   "execution_count": 30,
   "metadata": {},
   "outputs": [],
   "source": [
    "# Define communal and agentic words\n",
    "communal_words = [\n",
    "    'empathy', 'supportive', 'collaborative', 'kind', 'warm', 'compassionate', \n",
    "    'nurturing', 'cooperative', 'helpful', 'understanding', 'friendly', 'patient', \n",
    "    'approachable', 'loyal', 'trustworthy', 'caring',\n",
    "    'empathetic', 'sympathetic', 'considerate', 'tolerant', 'generous',\n",
    "    'amicable', 'benevolent', 'cordial', 'gentle', 'forgiving', 'inclusive',\n",
    "    'reliable', 'sympathizing', 'responsive', 'supporting', 'altruistic',\n",
    "    'dedicated', 'personable', 'sociable', 'neighborly', 'thoughtful',\n",
    "    'cohesive', 'agreeable', 'emotional intelligence', 'community-oriented',\n",
    "    'kind-hearted', 'empathic', 'charitable', 'helping', 'humane'\n",
    "]\n",
    "\n",
    "\n",
    "agentic_words = [\n",
    "    'ambition', 'independence', 'assertiveness', 'confident', 'competitive', \n",
    "    'leadership', 'proactive', 'self-reliant', 'dominant', 'persistent', 'decisive', \n",
    "    'driven', 'strategic', 'innovative', 'analytical', 'resilient',\n",
    "    'determined', 'goal-oriented', 'ambitious', 'tenacious', 'self-confident',\n",
    "    'entrepreneurial', 'resourceful', 'problem-solving', 'visionary', 'dynamic',\n",
    "    'risk-taking', 'decisiveness', 'assertive', 'result-oriented', 'influential',\n",
    "    'high-achieving', 'challenger', 'independent thinking', 'self-starter',\n",
    "    'self-assured', 'decisive', 'executive', 'autonomous', 'enterprising',\n",
    "    'bold', 'driving', 'impactful', 'asserting', 'purposeful'\n",
    "]\n",
    "\n",
    "# Function to detect agentic words\n",
    "def detect_agentic_words(description):\n",
    "    words = description.split()\n",
    "    detected_words = [word for word in words if word.lower() in agentic_words]\n",
    "    return ' '.join(detected_words)\n",
    "\n",
    "# Function to detect communal words\n",
    "def detect_communal_words(description):\n",
    "    words = description.split()\n",
    "    detected_words = [word for word in words if word.lower() in communal_words]\n",
    "    return ' '.join(detected_words)"
   ]
  },
  {
   "cell_type": "code",
   "execution_count": 31,
   "metadata": {},
   "outputs": [],
   "source": [
    "# Extract seniority level from job titles\n",
    "def extract_seniority(title):\n",
    "    title = title.lower()\n",
    "    if 'senior' in title or 'lead' in title or 'manager' in title or 'director' in title:\n",
    "        return 'senior'\n",
    "    elif 'junior' in title or 'assistant' in title or 'entry' in title:\n",
    "        return 'junior'\n",
    "    else:\n",
    "        return 'mid'\n",
    "\n",
    "df['seniority_level'] = df['Job Title'].apply(extract_seniority)"
   ]
  },
  {
   "cell_type": "code",
   "execution_count": 32,
   "metadata": {},
   "outputs": [],
   "source": [
    "# Extract salary range from job descriptions (if salary information is present)\n",
    "def extract_salary(description):\n",
    "    # Example pattern to extract salary range; modify as needed based on actual data format\n",
    "    salary_pattern = re.compile(r'\\$\\d{2,3}(?:,\\d{3})*(?:-\\$\\d{2,3}(?:,\\d{3})*)?')\n",
    "    match = salary_pattern.search(description)\n",
    "    if match:\n",
    "        salary_str = match.group()\n",
    "        if '-' in salary_str:\n",
    "            lower, upper = salary_str.split('-')\n",
    "            return (int(lower.replace('$', '').replace(',', '')) + int(upper.replace('$', '').replace(',', ''))) / 2\n",
    "        else:\n",
    "            return int(salary_str.replace('$', '').replace(',', ''))\n",
    "    return None\n",
    "\n",
    "df['salary'] = df['Job Description'].apply(lambda x: extract_salary(x) if isinstance(x, str) else None)"
   ]
  },
  {
   "cell_type": "code",
   "execution_count": 33,
   "metadata": {},
   "outputs": [],
   "source": [
    "\n",
    "df['cleaned_description'] = df['Job Description'].apply(clean_text)"
   ]
  },
  {
   "cell_type": "code",
   "execution_count": 34,
   "metadata": {},
   "outputs": [],
   "source": [
    "# Ensure all entries in 'cleaned_description' are strings\n",
    "df['cleaned_description'] = df['cleaned_description'].apply(lambda x: ' '.join(x) if isinstance(x, list) else x)\n"
   ]
  },
  {
   "cell_type": "markdown",
   "metadata": {},
   "source": [
    "---"
   ]
  },
  {
   "cell_type": "code",
   "execution_count": 35,
   "metadata": {},
   "outputs": [],
   "source": [
    "# Add text length features\n",
    "df['word_count'] = df['cleaned_description'].apply(lambda x: len(x.split()))\n",
    "df['char_count'] = df['cleaned_description'].apply(lambda x: len(x))\n",
    "df['avg_word_length'] = df['cleaned_description'].apply(lambda x: sum(len(word) for word in x.split()) / len(x.split()))\n",
    "df['sentence_count'] = df['cleaned_description'].apply(lambda x: len(TextBlob(x).sentences))\n",
    "df['avg_sentence_length'] = df['word_count'] / df['sentence_count']"
   ]
  },
  {
   "cell_type": "code",
   "execution_count": 36,
   "metadata": {},
   "outputs": [],
   "source": [
    "\n",
    "# Add columns for detected agentic and communal words\n",
    "df['agentic_words'] = df['cleaned_description'].apply(detect_agentic_words)\n",
    "df['communal_words'] = df['cleaned_description'].apply(detect_communal_words)"
   ]
  },
  {
   "cell_type": "code",
   "execution_count": 37,
   "metadata": {},
   "outputs": [],
   "source": [
    "# Add sentiment score\n",
    "df['sentiment'] = df['cleaned_description'].apply(lambda x: TextBlob(x).sentiment.polarity)"
   ]
  },
  {
   "cell_type": "code",
   "execution_count": 38,
   "metadata": {},
   "outputs": [],
   "source": [
    "# Add readability scores\n",
    "df['flesch_reading_ease'] = df['cleaned_description'].apply(lambda x: textstat.flesch_reading_ease(x))\n",
    "df['flesch_kincaid_grade'] = df['cleaned_description'].apply(lambda x: textstat.flesch_kincaid_grade(x))\n"
   ]
  },
  {
   "cell_type": "code",
   "execution_count": 39,
   "metadata": {},
   "outputs": [],
   "source": [
    "# Calculate communal and agentic scores\n",
    "df['communal_score'] = df['cleaned_description'].apply(lambda x: count_words(x, communal_words))\n",
    "df['agentic_score'] = df['cleaned_description'].apply(lambda x: count_words(x, agentic_words))\n",
    "\n",
    "# Calculate frequency of communal and agentic words\n",
    "df['communal_freq'] = df['communal_score'] / df['cleaned_description'].apply(len)\n",
    "df['agentic_freq'] = df['agentic_score'] / df['cleaned_description'].apply(len)\n",
    "\n"
   ]
  },
  {
   "cell_type": "code",
   "execution_count": 40,
   "metadata": {},
   "outputs": [],
   "source": [
    "# Ensure all entries in 'cleaned_description' are strings\n",
    "df['cleaned_description'] = df['cleaned_description'].apply(lambda x: ' '.join(x) if isinstance(x, list) else x)\n",
    "\n",
    "# Add text length features\n",
    "df['word_count'] = df['cleaned_description'].apply(lambda x: len(x.split()))\n",
    "df['char_count'] = df['cleaned_description'].apply(lambda x: len(x))\n",
    "df['avg_word_length'] = df['cleaned_description'].apply(lambda x: sum(len(word) for word in x.split()) / len(x.split()))\n",
    "df['sentence_count'] = df['cleaned_description'].apply(lambda x: len(TextBlob(x).sentences))\n",
    "df['avg_sentence_length'] = df['word_count'] / df['sentence_count']\n"
   ]
  },
  {
   "cell_type": "code",
   "execution_count": 41,
   "metadata": {},
   "outputs": [],
   "source": [
    "# Add sentiment score\n",
    "df['sentiment'] = df['cleaned_description'].apply(lambda x: TextBlob(x).sentiment.polarity)"
   ]
  },
  {
   "cell_type": "code",
   "execution_count": 42,
   "metadata": {},
   "outputs": [
    {
     "name": "stdout",
     "output_type": "stream",
     "text": [
      "Data cleaning and feature extraction complete. Cleaned data saved to 'cleaned_dataset.csv'.\n"
     ]
    }
   ],
   "source": [
    "\n",
    "# Save the cleaned data with features to the current working directory\n",
    "df.to_csv('cleaned_dataset.csv', index=False)\n",
    "\n",
    "print(\"Data cleaning and feature extraction complete. Cleaned data saved to 'cleaned_dataset.csv'.\")"
   ]
  },
  {
   "cell_type": "markdown",
   "metadata": {},
   "source": [
    "-----"
   ]
  },
  {
   "cell_type": "code",
   "execution_count": 43,
   "metadata": {},
   "outputs": [],
   "source": [
    "# Add readability scores\n",
    "df['flesch_reading_ease'] = df['cleaned_description'].apply(lambda x: textstat.flesch_reading_ease(x))\n",
    "df['flesch_kincaid_grade'] = df['cleaned_description'].apply(lambda x: textstat.flesch_kincaid_grade(x))"
   ]
  },
  {
   "cell_type": "code",
   "execution_count": 44,
   "metadata": {},
   "outputs": [],
   "source": [
    "# Handle missing salary values if necessary (e.g., imputation, dropping, etc.)\n",
    "df['salary'] = df['salary'].fillna(df['salary'].median())"
   ]
  },
  {
   "cell_type": "code",
   "execution_count": 45,
   "metadata": {},
   "outputs": [
    {
     "data": {
      "image/png": "[encoded data removed]",
      "text/plain": [
       "<Figure size 1200x600 with 1 Axes>"
      ]
     },
     "metadata": {},
     "output_type": "display_data"
    }
   ],
   "source": [
    "# Visualization\n",
    "plt.figure(figsize=(12, 6))\n",
    "df['communal_score'].plot(kind='hist', alpha=0.5, label='Communal Score', color='blue')\n",
    "df['agentic_score'].plot(kind='hist', alpha=0.5, label='Agentic Score', color='red')\n",
    "plt.legend()\n",
    "plt.xlabel('Score')\n",
    "plt.title('Distribution of Communal and Agentic Scores in Job Descriptions')\n",
    "plt.show()"
   ]
  },
  {
   "cell_type": "code",
   "execution_count": 46,
   "metadata": {},
   "outputs": [
    {
     "data": {
      "image/png": "[encoded data removed]",
      "text/plain": [
       "<Figure size 1200x600 with 1 Axes>"
      ]
     },
     "metadata": {},
     "output_type": "display_data"
    }
   ],
   "source": [
    "plt.figure(figsize=(12, 6))\n",
    "df['communal_freq'].plot(kind='hist', alpha=0.5, label='Communal Frequency', color='blue')\n",
    "df['agentic_freq'].plot(kind='hist', alpha=0.5, label='Agentic Frequency', color='red')\n",
    "plt.legend()\n",
    "plt.xlabel('Frequency')\n",
    "plt.title('Distribution of Communal and Agentic Frequencies in Job Descriptions')\n",
    "plt.show()"
   ]
  },
  {
   "cell_type": "code",
   "execution_count": 47,
   "metadata": {},
   "outputs": [
    {
     "name": "stdout",
     "output_type": "stream",
     "text": [
      "Data cleaning and feature extraction complete. Cleaned data saved to 'cleaned_dataset.csv'.\n"
     ]
    }
   ],
   "source": [
    "# Save the cleaned data with features to the current working directory\n",
    "df.to_csv('cleaned_dataset.csv', index=False)\n",
    "\n",
    "print(\"Data cleaning and feature extraction complete. Cleaned data saved to 'cleaned_dataset.csv'.\")\n"
   ]
  },
  {
   "cell_type": "code",
   "execution_count": 48,
   "metadata": {},
   "outputs": [
    {
     "name": "stdout",
     "output_type": "stream",
     "text": [
      "<class 'pandas.core.frame.DataFrame'>\n",
      "RangeIndex: 2277 entries, 0 to 2276\n",
      "Data columns (total 20 columns):\n",
      " #   Column                Non-Null Count  Dtype  \n",
      "---  ------                --------------  -----  \n",
      " 0   Unnamed: 0            2277 non-null   int64  \n",
      " 1   Job Title             2277 non-null   object \n",
      " 2   Job Description       2277 non-null   object \n",
      " 3   seniority_level       2277 non-null   object \n",
      " 4   salary                2277 non-null   float64\n",
      " 5   cleaned_description   2277 non-null   object \n",
      " 6   word_count            2277 non-null   int64  \n",
      " 7   char_count            2277 non-null   int64  \n",
      " 8   avg_word_length       2277 non-null   float64\n",
      " 9   sentence_count        2277 non-null   int64  \n",
      " 10  avg_sentence_length   2277 non-null   float64\n",
      " 11  agentic_words         2277 non-null   object \n",
      " 12  communal_words        2277 non-null   object \n",
      " 13  sentiment             2277 non-null   float64\n",
      " 14  flesch_reading_ease   2277 non-null   float64\n",
      " 15  flesch_kincaid_grade  2277 non-null   float64\n",
      " 16  communal_score        2277 non-null   int64  \n",
      " 17  agentic_score         2277 non-null   int64  \n",
      " 18  communal_freq         2277 non-null   float64\n",
      " 19  agentic_freq          2277 non-null   float64\n",
      "dtypes: float64(8), int64(6), object(6)\n",
      "memory usage: 355.9+ KB\n",
      "None\n"
     ]
    }
   ],
   "source": [
    "print(df.info())"
   ]
  }
 ],
 "metadata": {
  "kernelspec": {
   "display_name": "Python 3.11.8",
   "language": "python",
   "name": "python3"
  },
  "language_info": {
   "codemirror_mode": {
    "name": "ipython",
    "version": 3
   },
   "file_extension": ".py",
   "mimetype": "text/x-python",
   "name": "python",
   "nbconvert_exporter": "python",
   "pygments_lexer": "ipython3",
   "version": "3.11.8"
  },
  "orig_nbformat": 4,
  "vscode": {
   "interpreter": {
    "hash": "2b69611a5e908fff52739484b03ed04ac3b781fc2c02522f7e97d7b5506d2f83"
   }
  }
 },
 "nbformat": 4,
 "nbformat_minor": 2
}
